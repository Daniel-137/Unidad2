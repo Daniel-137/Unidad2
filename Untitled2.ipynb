{
 "cells": [
  {
   "cell_type": "markdown",
   "metadata": {},
   "source": [
    "## Ecuación de Van de Waals para un gas ideal\n"
   ]
  },
  {
   "cell_type": "code",
   "execution_count": 1,
   "metadata": {
    "collapsed": true
   },
   "outputs": [],
   "source": [
    "import numpy as np\n",
    "import matplotlib.pyplot as plt# definimos función \n",
    "x=np.arange(1,2,0.1)\n",
    "def f(x):\n",
    "    return  x**3 + 4*x**2 - 10\n",
    "#función signo\n",
    "def signo(x):\n",
    "    if x>0:\n",
    "        return 1\n",
    "    elif x<0:\n",
    "        return -1\n",
    "    else:\n",
    "        return 0\n"
   ]
  },
  {
   "cell_type": "code",
   "execution_count": 11,
   "metadata": {
    "collapsed": true
   },
   "outputs": [],
   "source": [
    "#definir el intervalo \n",
    "ai,bi = 1.6,4.0\n",
    "#Punto medio del intervalo \n",
    "\n",
    "#Tolerancia max (10**-16)\n",
    "tol = 0.000001\n",
    "#Número de iteraciones\n",
    "n = 1000\n",
    "#error inicial\n",
    "error = 1.0\n",
    "iteracion = 0"
   ]
  },
  {
   "cell_type": "code",
   "execution_count": 12,
   "metadata": {
    "scrolled": true
   },
   "outputs": [
    {
     "name": "stdout",
     "output_type": "stream",
     "text": [
      "Los valores dados por el método de bisección\n",
      "pi=3.400000\t ai=2.800000\t bi=4.000000\t f(pi)=65.180885\t error=0.600000\n",
      "pi=3.100000\t ai=2.800000\t bi=3.400000\t f(pi)=26.314367\t error=0.300000\n",
      "pi=2.950000\t ai=2.800000\t bi=3.100000\t f(pi)=11.274902\t error=0.150000\n",
      "pi=2.875000\t ai=2.800000\t bi=2.950000\t f(pi)=4.765024\t error=0.075000\n",
      "pi=2.837500\t ai=2.800000\t bi=2.875000\t f(pi)=1.751474\t error=0.037500\n",
      "pi=2.818750\t ai=2.800000\t bi=2.837500\t f(pi)=0.303663\t error=0.018750\n",
      "pi=2.809375\t ai=2.800000\t bi=2.818750\t f(pi)=-0.405676\t error=0.009375\n",
      "pi=2.814062\t ai=2.809375\t bi=2.818750\t f(pi)=-0.052215\t error=0.004687\n",
      "pi=2.816406\t ai=2.814062\t bi=2.818750\t f(pi)=0.125421\t error=0.002344\n",
      "pi=2.815234\t ai=2.814062\t bi=2.816406\t f(pi)=0.036527\t error=0.001172\n",
      "pi=2.814648\t ai=2.814062\t bi=2.815234\t f(pi)=-0.007863\t error=0.000586\n",
      "pi=2.814941\t ai=2.814648\t bi=2.815234\t f(pi)=0.014327\t error=0.000293\n",
      "pi=2.814795\t ai=2.814648\t bi=2.814941\t f(pi)=0.003231\t error=0.000146\n",
      "pi=2.814722\t ai=2.814648\t bi=2.814795\t f(pi)=-0.002316\t error=0.000073\n",
      "pi=2.814758\t ai=2.814722\t bi=2.814795\t f(pi)=0.000457\t error=0.000037\n",
      "pi=2.814740\t ai=2.814722\t bi=2.814758\t f(pi)=-0.000929\t error=0.000018\n",
      "pi=2.814749\t ai=2.814740\t bi=2.814758\t f(pi)=-0.000236\t error=0.000009\n",
      "pi=2.814754\t ai=2.814749\t bi=2.814758\t f(pi)=0.000111\t error=0.000005\n",
      "pi=2.814751\t ai=2.814749\t bi=2.814754\t f(pi)=-0.000063\t error=0.000002\n",
      "pi=2.814753\t ai=2.814751\t bi=2.814754\t f(pi)=0.000024\t error=0.000001\n",
      "pi=2.814752\t ai=2.814751\t bi=2.814753\t f(pi)=-0.000019\t error=0.000001\n"
     ]
    }
   ],
   "source": [
    "# verificar f(a)*F(b)<0\n",
    "print(\"Los valores dados por el método de bisección\")\n",
    "if (signo(f(ai))*signo(f(bi))<0):\n",
    "    while (error > tol):\n",
    "        pi = (bi+ai)*0.5\n",
    "        pi_1 = pi\n",
    "        #if signo(f(pi))==signo(f(ai)):\n",
    "        #    print(\"La solución a la ecuación es:%d \" %pi)\n",
    "        #else:\n",
    "        if(signo(f(pi))==signo(f(ai))):\n",
    "            ai = pi \n",
    "            bi = bi\n",
    "        elif(signo(f(pi))==signo(f(bi))):\n",
    "            bi = pi\n",
    "            ai = ai\n",
    "        pi = (ai+bi)*0.5\n",
    "        error = abs(pi - pi_1)\n",
    "        iteracion = iteracion + 1\n",
    "        \n",
    "        print(\"pi=%f\\t ai=%f\\t bi=%f\\t f(pi)=%f\\t error=%f\"%(pi,ai,bi,f(pi),error))\n",
    "        \n",
    "        if(iteracion >=n):\n",
    "            print(\"Número máximo de iteraciones excedido\")\n",
    "            break\n",
    "    \n",
    "\n",
    "else:\n",
    "    print(\"Intervalo erroneo\")"
   ]
  },
  {
   "cell_type": "code",
   "execution_count": null,
   "metadata": {
    "collapsed": true
   },
   "outputs": [],
   "source": [
    "\n",
    "\n"
   ]
  },
  {
   "cell_type": "code",
   "execution_count": 15,
   "metadata": {},
   "outputs": [
    {
     "data": {
      "image/png": "[encoded data removed]",
      "text/plain": [
       "<matplotlib.figure.Figure at 0x7fde7fdf5908>"
      ]
     },
     "metadata": {},
     "output_type": "display_data"
    }
   ],
   "source": [
    "def f(x):\n",
    "    p = 10 #atm\n",
    "    T = 353.2 #k\n",
    "    a = 3.599\n",
    "    b = 0.04267\n",
    "    R = 0.08205\n",
    "    return p*x**3 - p*b*x**2 + a*x - a*b - R*T*x**2\n",
    "x=np.arange(2.5,3,0.1)\n",
    "y = f(x)\n",
    "plt.plot(x,y)\n",
    "plt.grid()\n",
    "plt.text(1.356,0,'o')\n",
    "plt.show()"
   ]
  },
  {
   "cell_type": "code",
   "execution_count": 13,
   "metadata": {},
   "outputs": [
    {
     "name": "stdout",
     "output_type": "stream",
     "text": [
      "571.8433951969774\n"
     ]
    }
   ],
   "source": [
    "p_prev_2 = 2.0\n",
    "p_prev_1 = 2.5\n",
    "Tol = 1e-8\n",
    "error = 0.1\n",
    "Nmax = 1000\n",
    "i = 0\n",
    "\n",
    "print(f(p_prev_2)*f(p_prev_1))"
   ]
  },
  {
   "cell_type": "code",
   "execution_count": 14,
   "metadata": {},
   "outputs": [
    {
     "name": "stdout",
     "output_type": "stream",
     "text": [
      "El valor dado por el método de la falsa posición\n",
      "p_n = 3.2866822220763723\t error = 0.7866822220763723\t abs(f(p_n)) = 49.0517610134047573\n",
      "p_n = 2.7171161321884680\t error = 0.5695660898879042\t abs(f(p_n)) = -6.8794676126049694\n",
      "p_n = 2.7871720126845343\t error = 0.0700558804960663\t abs(f(p_n)) = -2.0472302205134554\n",
      "p_n = 2.8071843920178310\t error = 0.4794978300585413\t abs(f(p_n)) = -0.5700308096743925\n",
      "p_n = 2.8126926279412716\t error = 0.0055082359234406\t abs(f(p_n)) = -0.1557600544006164\n",
      "p_n = 2.8141929808012760\t error = 0.4724892412750963\t abs(f(p_n)) = -0.0423418650982796\n",
      "p_n = 2.8146004854615398\t error = 0.0004075046602638\t abs(f(p_n)) = -0.0114940512342514\n",
      "p_n = 2.8147110800737454\t error = 0.4719711420026269\t abs(f(p_n)) = -0.0031189644360552\n",
      "p_n = 2.8147410885297321\t error = 0.0000300084559868\t abs(f(p_n)) = -0.0008462578462058\n",
      "p_n = 2.8147492304799653\t error = 0.4719329915964070\t abs(f(p_n)) = -0.0002296057614615\n",
      "p_n = 2.8147514395347359\t error = 0.0000022090547707\t abs(f(p_n)) = -0.0000622959110785\n",
      "p_n = 2.8147520388877485\t error = 0.4719301831886238\t abs(f(p_n)) = -0.0000169018950942\n",
      "p_n = 2.8147522015019244\t error = 0.0000001626141759\t abs(f(p_n)) = -0.0000045857567841\n",
      "p_n = 2.8147522456217695\t error = 0.4719299764546028\t abs(f(p_n)) = -0.0000012441896047\n",
      "p_n = 2.8147522575921933\t error = 0.0000000119704238\t abs(f(p_n)) = -0.0000003375686219\n",
      "p_n = 2.8147522608399616\t error = 0.4719299612364107\t abs(f(p_n)) = -0.0000000915877933\n",
      "p_n = 2.8147522617211331\t error = 0.0000000008811716\t abs(f(p_n)) = -0.0000000248492711\n"
     ]
    }
   ],
   "source": [
    "print(\"El valor dado por el método de la falsa posición\")\n",
    "while(error>Tol):\n",
    "    p = p_prev_1 - (p_prev_1-p_prev_2)*f(p_prev_1)/(f(p_prev_1)-f(p_prev_2))\n",
    "    error = abs(p-p_prev_1)\n",
    "    if(f(p)*f(p_prev_1)<0):\n",
    "        p_prev_2 = p_prev_1\n",
    "        p_prev_1 = p\n",
    "        print(\"p_n = %.16f\\t error = %.16f\\t abs(f(p_n)) = %.16f\"%(p,error,f(p)))\n",
    "    elif(f(p)*f(p_prev_1)>0):\n",
    "        p_prev_1 = p_prev_2\n",
    "        p_prev_2 = p\n",
    "        #error = abs(p-p_prev_1)\n",
    "        print(\"p_n = %.16f\\t error = %.16f\\t abs(f(p_n)) = %.16f\"%(p,error,f(p)))\n",
    "    if(i>=Nmax):\n",
    "        print(\"El método no converge después de %d iteraciones\"%Nmax)\n",
    "        break"
   ]
  }
 ],
 "metadata": {
  "kernelspec": {
   "display_name": "Python 3",
   "language": "python",
   "name": "python3"
  },
  "language_info": {
   "codemirror_mode": {
    "name": "ipython",
    "version": 3
   },
   "file_extension": ".py",
   "mimetype": "text/x-python",
   "name": "python",
   "nbconvert_exporter": "python",
   "pygments_lexer": "ipython3",
   "version": "3.6.3"
  }
 },
 "nbformat": 4,
 "nbformat_minor": 2
}
