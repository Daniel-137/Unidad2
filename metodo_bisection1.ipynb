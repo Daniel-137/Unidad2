{
 "cells": [
  {
   "cell_type": "markdown",
   "metadata": {},
   "source": [
    "## Solución numérica de ecuaciones de una variable"
   ]
  },
  {
   "cell_type": "markdown",
   "metadata": {},
   "source": [
    "## 1) método de bisección \n"
   ]
  },
  {
   "cell_type": "markdown",
   "metadata": {},
   "source": [
    "## vamos a resolver la ecuación $x^3 + 4x^2 -10 = 0$ en el intervalo $[1,2]$"
   ]
  },
  {
   "cell_type": "code",
   "execution_count": 40,
   "metadata": {
    "collapsed": true
   },
   "outputs": [],
   "source": [
    "import numpy as np\n",
    "import matplotlib.pyplot as plt"
   ]
  },
  {
   "cell_type": "markdown",
   "metadata": {},
   "source": [
    "## Funciones"
   ]
  },
  {
   "cell_type": "code",
   "execution_count": 62,
   "metadata": {},
   "outputs": [
    {
     "data": {
      "image/png": "[encoded data removed]",
      "text/plain": [
       "<matplotlib.figure.Figure at 0x7f61ac0ec278>"
      ]
     },
     "metadata": {},
     "output_type": "display_data"
    }
   ],
   "source": [
    "# definimos función \n",
    "x=np.arange(1,2,0.1)\n",
    "def f(x):\n",
    "    return  x**3 + 4*x**2 - 10\n",
    "#función signo\n",
    "def signo(x):\n",
    "    if x>0:\n",
    "        return 1\n",
    "    elif x<0:\n",
    "        return -1\n",
    "    else:\n",
    "        return 0\n",
    "    \n",
    "y = f(x)\n",
    "plt.plot(x,y)\n",
    "plt.grid()\n",
    "plt.text(1.356,0,'o')\n",
    "plt.show()\n"
   ]
  },
  {
   "cell_type": "markdown",
   "metadata": {},
   "source": [
    "## Variables"
   ]
  },
  {
   "cell_type": "code",
   "execution_count": 58,
   "metadata": {
    "collapsed": true
   },
   "outputs": [],
   "source": [
    "#definir el intervalo \n",
    "ai,bi = 1.0,2.0\n",
    "#Punto medio del intervalo \n",
    "\n",
    "#Tolerancia max (10**-16)\n",
    "tol = 0.0001\n",
    "#Número de iteraciones\n",
    "n = 1000\n",
    "#error inicial\n",
    "error = 1.0\n",
    "iteracion = 0\n"
   ]
  },
  {
   "cell_type": "markdown",
   "metadata": {},
   "source": [
    "## Procedimiento"
   ]
  },
  {
   "cell_type": "code",
   "execution_count": 59,
   "metadata": {},
   "outputs": [
    {
     "name": "stdout",
     "output_type": "stream",
     "text": [
      "pi=1.250000\t ai=1.000000\t bi=1.500000\t f(pi)=-1.796875\t error=0.250000\n",
      "pi=1.375000\t ai=1.250000\t bi=1.500000\t f(pi)=0.162109\t error=0.125000\n",
      "pi=1.312500\t ai=1.250000\t bi=1.375000\t f(pi)=-0.848389\t error=0.062500\n",
      "pi=1.343750\t ai=1.312500\t bi=1.375000\t f(pi)=-0.350983\t error=0.031250\n",
      "pi=1.359375\t ai=1.343750\t bi=1.375000\t f(pi)=-0.096409\t error=0.015625\n",
      "pi=1.367188\t ai=1.359375\t bi=1.375000\t f(pi)=0.032356\t error=0.007812\n",
      "pi=1.363281\t ai=1.359375\t bi=1.367188\t f(pi)=-0.032150\t error=0.003906\n",
      "pi=1.365234\t ai=1.363281\t bi=1.367188\t f(pi)=0.000072\t error=0.001953\n",
      "pi=1.364258\t ai=1.363281\t bi=1.365234\t f(pi)=-0.016047\t error=0.000977\n",
      "pi=1.364746\t ai=1.364258\t bi=1.365234\t f(pi)=-0.007989\t error=0.000488\n",
      "pi=1.364990\t ai=1.364746\t bi=1.365234\t f(pi)=-0.003959\t error=0.000244\n",
      "pi=1.365112\t ai=1.364990\t bi=1.365234\t f(pi)=-0.001944\t error=0.000122\n",
      "pi=1.365173\t ai=1.365112\t bi=1.365234\t f(pi)=-0.000936\t error=0.000061\n"
     ]
    }
   ],
   "source": [
    "# verificar f(a)*F(b)<0\n",
    "if (signo(f(ai))*signo(f(bi))<0):\n",
    "    while (error > tol):\n",
    "        pi = (bi+ai)*0.5\n",
    "        pi_1 = pi\n",
    "        #if signo(f(pi))==signo(f(ai)):\n",
    "        #    print(\"La solución a la ecuación es:%d \" %pi)\n",
    "        #else:\n",
    "        if(signo(f(pi))==signo(f(ai))):\n",
    "            ai = pi \n",
    "            bi = bi\n",
    "        elif(signo(f(pi))==signo(f(bi))):\n",
    "            bi = pi\n",
    "            ai = ai\n",
    "        pi = (ai+bi)*0.5\n",
    "        error = abs(pi - pi_1)\n",
    "        iteracion = iteracion + 1\n",
    "        \n",
    "        print(\"pi=%f\\t ai=%f\\t bi=%f\\t f(pi)=%f\\t error=%f\"%(pi,ai,bi,f(pi),error))\n",
    "        \n",
    "        if(iteracion >=n):\n",
    "            print(\"Número máximo de iteraciones excedido\")\n",
    "            break\n",
    "    \n",
    "\n",
    "else:\n",
    "    print(\"Intervalo erroneo\")\n",
    "    \n",
    "            \n",
    "        "
   ]
  },
  {
   "cell_type": "code",
   "execution_count": null,
   "metadata": {
    "collapsed": true
   },
   "outputs": [],
   "source": []
  },
  {
   "cell_type": "code",
   "execution_count": null,
   "metadata": {
    "collapsed": true
   },
   "outputs": [],
   "source": []
  }
 ],
 "metadata": {
  "kernelspec": {
   "display_name": "Python 3",
   "language": "python",
   "name": "python3"
  },
  "language_info": {
   "codemirror_mode": {
    "name": "ipython",
    "version": 3
   },
   "file_extension": ".py",
   "mimetype": "text/x-python",
   "name": "python",
   "nbconvert_exporter": "python",
   "pygments_lexer": "ipython3",
   "version": "3.6.3"
  }
 },
 "nbformat": 4,
 "nbformat_minor": 2
}
