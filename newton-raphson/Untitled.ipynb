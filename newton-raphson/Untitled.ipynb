{
 "cells": [
  {
   "cell_type": "markdown",
   "metadata": {},
   "source": [
    "## MÉTODO DE NEWTON-RAPHSON"
   ]
  },
  {
   "cell_type": "markdown",
   "metadata": {},
   "source": [
    "Sea $f$ una funcion: $f \\epsilon [a,b]$, sea $p_0 \\epsilon [a,b]$ una aproximación a la raíz $p$ : $f^{'}(p_0) \\leq 0$ y $|P-P_0|\\approx0$ \n",
    "\n",
    "Expansión de f: \n",
    "\n",
    "$f(x) = {\\Sigma}^\\infty_{n=0} \\frac{f^{n}}{n!}{(x-a)^n}$\n",
    "\n",
    "Esquema general: \n",
    "\n",
    "${[P_n]}^{\\infty}_{n=1}$  serie que converge a $p$\n",
    "\n",
    "$p_n = p_{n-1} - \\frac{f(p_{n-1})}{f^{'}(p_{n-1})}$  con $|p_n - p_{n-1}|$ < TOL\n",
    "\n",
    "si el cero coincide con un punto de infelcción, el método de Newton-Raphson no sirve\n",
    "\n",
    "Expansión de f alrededor de p: \n",
    "errores: \n",
    "\n",
    "$\\epsilon_n = p_n - p $\n",
    "\n",
    "$\\epsilon_{n+1} = p_{n+1} - p $\n",
    "\n",
    "$f(x) = {\\Sigma}^\\infty_{n=0} \\frac{f^{n}}{n!}{(x-p)^n}$\n",
    "\n",
    "si $x=p_n$\n",
    "\n",
    "$f(p_n) \\approx f(p) + f^{'}(p)(p_n - p) + f^{''}(p)(p_n - p)^2 ....$\n",
    "\n",
    "$\\frac{df}{df_n} \\approx f^{'}(p) + f^{''}(p)(p_n - p) $\n",
    "\n",
    "$f(p_n) \\approx f(p)\\epsilon_n + \\frac{f^{''}(p)}{2}{\\epsilon_n^2} $\n",
    "\n",
    "$\\frac{df}{df_n} = f^{'}(p) + f^{''}(p)\\epsilon_n  $\n",
    "\n",
    "conclusión de que la convergencia del método de newton raphson es cuadrático \n",
    "\n",
    "$\\epsilon_{n+1} \\propto C\\epsilon_n^2 $\n",
    "\n"
   ]
  },
  {
   "cell_type": "code",
   "execution_count": 6,
   "metadata": {
    "collapsed": true
   },
   "outputs": [],
   "source": [
    "import numpy as np \n",
    "import matplotlib.pyplot as plt"
   ]
  },
  {
   "cell_type": "code",
   "execution_count": 7,
   "metadata": {
    "collapsed": true
   },
   "outputs": [],
   "source": [
    "def dfdx(x):\n",
    "    return -np.sin(x) - 1.0\n",
    "\n",
    "def f(x):\n",
    "    return np.cos(x) - x\n",
    "\n"
   ]
  },
  {
   "cell_type": "code",
   "execution_count": null,
   "metadata": {
    "collapsed": true
   },
   "outputs": [],
   "source": []
  },
  {
   "cell_type": "code",
   "execution_count": 8,
   "metadata": {
    "collapsed": true
   },
   "outputs": [],
   "source": [
    "p_prev = 5.0\n",
    "error = 1.0\n",
    "it = 0\n",
    "nmax = 1000\n",
    "tol = 0.00001\n",
    "\n",
    "while error < tol:\n",
    "    p=p_prev - f(p_prev)/dfdx(p_prev)\n",
    "    error = f(abs(p-p_prev))\n",
    "    p_prev = p\n",
    "    it = it +1\n",
    "    if it>nmax:\n",
    "        print(\"el metodo no converge despues de %d iteraciones\"%nmax)\n",
    "        break\n",
    "    else: \n",
    "        print(\"p = %.16f\\t error = %.16f\\t abs(f(p)) = %.16f\\n\"%p%error%f(abs(p)))"
   ]
  },
  {
   "cell_type": "code",
   "execution_count": null,
   "metadata": {
    "collapsed": true
   },
   "outputs": [],
   "source": []
  }
 ],
 "metadata": {
  "kernelspec": {
   "display_name": "Python 3",
   "language": "python",
   "name": "python3"
  },
  "language_info": {
   "codemirror_mode": {
    "name": "ipython",
    "version": 3
   },
   "file_extension": ".py",
   "mimetype": "text/x-python",
   "name": "python",
   "nbconvert_exporter": "python",
   "pygments_lexer": "ipython3",
   "version": "3.6.3"
  }
 },
 "nbformat": 4,
 "nbformat_minor": 2
}
