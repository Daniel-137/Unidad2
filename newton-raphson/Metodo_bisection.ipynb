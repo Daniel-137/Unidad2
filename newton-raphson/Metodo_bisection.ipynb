{
 "cells": [
  {
   "cell_type": "markdown",
   "metadata": {},
   "source": [
    "## Solución numérica de ecuaciones de una variable"
   ]
  },
  {
   "cell_type": "markdown",
   "metadata": {},
   "source": [
    "## 1) método de bisección \n",
    "sea f una función continua en el intervalo [a,b], el teorema del valor intermedio: existe un c en (a,b): f(c)=0 sii f(a)*F(b)<0"
   ]
  },
  {
   "cell_type": "code",
   "execution_count": 10,
   "metadata": {},
   "outputs": [],
   "source": [
    "import numpy as np\n",
    "import matplotlib.pyplot as plt"
   ]
  },
  {
   "cell_type": "markdown",
   "metadata": {},
   "source": [
    "## Variables"
   ]
  },
  {
   "cell_type": "code",
   "execution_count": 18,
   "metadata": {},
   "outputs": [
    {
     "data": {
      "image/png": "[encoded data removed]",
      "text/plain": [
       "<matplotlib.figure.Figure at 0x7f8fc69f1978>"
      ]
     },
     "metadata": {},
     "output_type": "display_data"
    }
   ],
   "source": [
    "# definimos función \n",
    "x=np.arange(1,2,0.1)\n",
    "def f(x):\n",
    "    return  x**3 + 4*x**2 - 10\n",
    "y = f(x)\n",
    "plt.plot(x,y)\n",
    "plt.grid()\n",
    "plt.show()\n",
    "#definir el intervalo \n",
    "a,b = 1,2\n",
    "#Punto medio del intervalo \n",
    "pm = (b+a)/2\n",
    "#Tolerancia max (10**-16)\n",
    "tol = 0.01\n",
    "\n",
    "\n"
   ]
  },
  {
   "cell_type": "markdown",
   "metadata": {},
   "source": [
    "## Procedimiento"
   ]
  },
  {
   "cell_type": "code",
   "execution_count": 19,
   "metadata": {},
   "outputs": [],
   "source": [
    "# verificar f(a)*F(b)<0\n",
    "if f(a)*f(b)>=0:\n",
    "    print(\"En el intervalo ingresado \")\n",
    "\n",
    "else:\n",
    "    while abs()\n",
    "    if f(pm)!=0:\n",
    "        if (f(pm)<0 and f(a)<0) or (f(pm)>0 and f(a)>0) :\n",
    "            a = pm \n",
    "        elif (f(pm)<0 and f(b)<0) or (f(pm)>0 and f(b)>0):\n",
    "            b = pm\n",
    "    else: \n",
    "        print(\"La solución a la ecuación es:% \" %pm)\n",
    "        "
   ]
  },
  {
   "cell_type": "code",
   "execution_count": null,
   "metadata": {
    "collapsed": true
   },
   "outputs": [],
   "source": []
  }
 ],
 "metadata": {
  "kernelspec": {
   "display_name": "Python 3",
   "language": "python",
   "name": "python3"
  },
  "language_info": {
   "codemirror_mode": {
    "name": "ipython",
    "version": 3
   },
   "file_extension": ".py",
   "mimetype": "text/x-python",
   "name": "python",
   "nbconvert_exporter": "python",
   "pygments_lexer": "ipython3",
   "version": "3.6.3"
  }
 },
 "nbformat": 4,
 "nbformat_minor": 2
}
